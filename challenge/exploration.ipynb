{
 "cells": [
  {
   "cell_type": "code",
   "execution_count": 41,
   "metadata": {},
   "outputs": [],
   "source": [
    "import numpy as np\n",
    "import pandas as pd\n",
    "import matplotlib.pyplot as plt\n",
    "import seaborn as sns\n",
    "import warnings\n",
    "\n",
    "warnings.filterwarnings('ignore')"
   ]
  },
  {
   "attachments": {},
   "cell_type": "markdown",
   "metadata": {},
   "source": [
    "## 0. Load Data"
   ]
  },
  {
   "cell_type": "code",
   "execution_count": null,
   "metadata": {},
   "outputs": [],
   "source": [
    "data = pd.read_csv('../data/data.csv', error_bad_lines=False)\n",
    "data.info()"
   ]
  },
  {
   "attachments": {},
   "cell_type": "markdown",
   "metadata": {},
   "source": [
    "## 1. Data Analysis: First Sight"
   ]
  },
  {
   "attachments": {},
   "cell_type": "markdown",
   "metadata": {},
   "source": [
    "### How is the date distribuited?"
   ]
  },
  {
   "cell_type": "code",
   "execution_count": null,
   "metadata": {},
   "outputs": [],
   "source": [
    "flights_by_airline = data['OPERA'].value_counts()\n",
    "plt.figure(figsize = (10, 2))\n",
    "sns.set(style=\"darkgrid\")\n",
    "sns.barplot(x=flights_by_airline.index, y=flights_by_airline.values, alpha=0.9)\n",
    "plt.title('Flights by Airline')\n",
    "plt.ylabel('Flights', fontsize=12)\n",
    "plt.xlabel('Airline', fontsize=12)\n",
    "plt.xticks(rotation=90)\n",
    "plt.show()"
   ]
  },
  {
   "cell_type": "code",
   "execution_count": null,
   "metadata": {},
   "outputs": [],
   "source": [
    "flights_by_day = data['DIA'].value_counts()\n",
    "plt.figure(figsize = (10, 2))\n",
    "sns.set(style = \"darkgrid\")\n",
    "sns.barplot(x=flights_by_day.index, y=flights_by_day.values, color='lightblue', alpha=0.8)\n",
    "plt.title('Flights by Day')\n",
    "plt.ylabel('Flights', fontsize=12)\n",
    "plt.xlabel('Day', fontsize=12)\n",
    "plt.xticks(rotation=90)\n",
    "plt.show()"
   ]
  },
  {
   "cell_type": "code",
   "execution_count": null,
   "metadata": {},
   "outputs": [],
   "source": [
    "flights_by_month = data['MES'].value_counts()\n",
    "plt.figure(figsize = (10, 2))\n",
    "sns.set(style = \"darkgrid\")\n",
    "sns.barplot(x=flights_by_month.index, y=flights_by_month.values, color='lightblue', alpha=0.8)\n",
    "plt.title('Flights by Month')\n",
    "plt.ylabel('Flights', fontsize=12)\n",
    "plt.xlabel('Month', fontsize=12)\n",
    "plt.xticks(rotation=90)\n",
    "plt.show()"
   ]
  },
  {
   "cell_type": "code",
   "execution_count": null,
   "metadata": {},
   "outputs": [],
   "source": [
    "flights_by_day_in_week = data['DIANOM'].value_counts()\n",
    "days = [\n",
    "    flights_by_day_in_week.index[2], \n",
    "    flights_by_day_in_week.index[5], \n",
    "    flights_by_day_in_week.index[4], \n",
    "    flights_by_day_in_week.index[1], \n",
    "    flights_by_day_in_week.index[0], \n",
    "    flights_by_day_in_week.index[6], \n",
    "    flights_by_day_in_week.index[3]\n",
    "]\n",
    "values_by_day = [\n",
    "    flights_by_day_in_week.values[2], \n",
    "    flights_by_day_in_week.values[5], \n",
    "    flights_by_day_in_week.values[4], \n",
    "    flights_by_day_in_week.values[1], \n",
    "    flights_by_day_in_week.values[0], \n",
    "    flights_by_day_in_week.values[6], \n",
    "    flights_by_day_in_week.values[3]\n",
    "]\n",
    "plt.figure(figsize = (10, 2))\n",
    "sns.set(style=\"darkgrid\")\n",
    "sns.barplot(x=days, y=values_by_day, color='lightblue', alpha=0.8)\n",
    "plt.title('Flights by Day in Week')\n",
    "plt.ylabel('Flights', fontsize=12)\n",
    "plt.xlabel('Day in Week', fontsize=12)\n",
    "plt.xticks(rotation=90)\n",
    "plt.show()"
   ]
  },
  {
   "cell_type": "code",
   "execution_count": null,
   "metadata": {},
   "outputs": [],
   "source": [
    "flights_by_type = data['TIPOVUELO'].value_counts()\n",
    "sns.set(style=\"darkgrid\")\n",
    "plt.figure(figsize = (10, 2))\n",
    "sns.barplot(x= flights_by_type.index,y= flights_by_type.values, alpha=0.9)\n",
    "plt.title('Flights by Type')\n",
    "plt.ylabel('Flights', fontsize=12)\n",
    "plt.xlabel('Type', fontsize=12)\n",
    "plt.show()"
   ]
  },
  {
   "cell_type": "code",
   "execution_count": null,
   "metadata": {},
   "outputs": [],
   "source": [
    "flight_by_destination = data['SIGLADES'].value_counts()\n",
    "plt.figure(figsize = (10, 2))\n",
    "sns.set(style=\"darkgrid\")\n",
    "sns.barplot(x= flight_by_destination.index,y= flight_by_destination.values, color = 'lightblue', alpha=0.8)\n",
    "plt.title('Flight by Destination')\n",
    "plt.ylabel('Flights', fontsize=12)\n",
    "plt.xlabel('Destination', fontsize=12)\n",
    "plt.xticks(rotation=90)\n",
    "\n",
    "plt.show()"
   ]
  },
  {
   "attachments": {},
   "cell_type": "markdown",
   "metadata": {},
   "source": [
    "## 2. Features Generation"
   ]
  },
  {
   "attachments": {},
   "cell_type": "markdown",
   "metadata": {},
   "source": [
    "### 2.a. Period of Day"
   ]
  },
  {
   "cell_type": "code",
   "execution_count": 49,
   "metadata": {},
   "outputs": [],
   "source": [
    "def get_period_day(dates):\n",
    "    # Convert the series to datetime format if not already\n",
    "    dates = pd.to_datetime(dates, errors='coerce')\n",
    "\n",
    "    # Extract hour from dates\n",
    "    hours = dates.dt.hour\n",
    "\n",
    "    # Determine the period based on the hour\n",
    "    conditions = [\n",
    "        (hours >= 5) & (hours < 12),\n",
    "        (hours >= 12) & (hours < 19)\n",
    "    ]\n",
    "    choices = ['mañana', 'tarde']\n",
    "\n",
    "    return pd.Series(np.select(conditions, choices, default='noche'))"
   ]
  },
  {
   "cell_type": "code",
   "execution_count": 50,
   "metadata": {},
   "outputs": [],
   "source": [
    "data['period_day'] = get_period_day(data['Fecha-I'])"
   ]
  },
  {
   "attachments": {},
   "cell_type": "markdown",
   "metadata": {},
   "source": [
    "### 2.b. High Season"
   ]
  },
  {
   "cell_type": "code",
   "execution_count": 51,
   "metadata": {},
   "outputs": [],
   "source": [
    "def is_high_season(dates):\n",
    "    # Convert the series to datetime if not already\n",
    "    dates = pd.to_datetime(dates, errors='coerce')\n",
    "\n",
    "    # Extract year from dates\n",
    "    years = dates.dt.year\n",
    "\n",
    "    # Define high season date ranges\n",
    "    date_ranges = [\n",
    "        ('12-15', '12-31'),\n",
    "        ('01-01', '03-03'),\n",
    "        ('07-15', '07-31'),\n",
    "        ('09-11', '09-30')\n",
    "    ]\n",
    "\n",
    "    # Check for each range if dates fall into it\n",
    "    masks = []\n",
    "    for start, end in date_ranges:\n",
    "        range_start = pd.to_datetime(years.astype(str) + '-' + start, errors='coerce')\n",
    "        range_end = pd.to_datetime(years.astype(str) + '-' + end, errors='coerce')\n",
    "        masks.append((dates >= range_start) & (dates <= range_end))\n",
    "\n",
    "    # Combine all masks with 'or' operation\n",
    "    final_mask = np.logical_or.reduce(masks)\n",
    "\n",
    "    return final_mask.astype(int)"
   ]
  },
  {
   "cell_type": "code",
   "execution_count": 52,
   "metadata": {},
   "outputs": [],
   "source": [
    "data['high_season'] = is_high_season(data['Fecha-I'])"
   ]
  },
  {
   "attachments": {},
   "cell_type": "markdown",
   "metadata": {},
   "source": [
    "### 2.c. Difference in Minutes"
   ]
  },
  {
   "cell_type": "code",
   "execution_count": 53,
   "metadata": {},
   "outputs": [],
   "source": [
    "# Convert entire columns in `data` to datetime format; invalid parsing will produce NaT values\n",
    "data['Fecha-O'] = pd.to_datetime(data['Fecha-O'], format='%Y-%m-%d %H:%M:%S', errors='coerce')\n",
    "data['Fecha-I'] = pd.to_datetime(data['Fecha-I'], format='%Y-%m-%d %H:%M:%S', errors='coerce')\n",
    "\n",
    "# Calculate the time difference in minutes using vectorized operations\n",
    "data['min_diff'] = (data['Fecha-O'] - data['Fecha-I']).dt.total_seconds() / 60"
   ]
  },
  {
   "cell_type": "code",
   "execution_count": 54,
   "metadata": {},
   "outputs": [],
   "source": [
    "# data['min_diff'] = data.apply(get_min_diff, axis = 1)"
   ]
  },
  {
   "attachments": {},
   "cell_type": "markdown",
   "metadata": {},
   "source": [
    "### 2.d. Delay"
   ]
  },
  {
   "cell_type": "code",
   "execution_count": 55,
   "metadata": {},
   "outputs": [],
   "source": [
    "threshold_in_minutes = 15\n",
    "data['delay'] = np.where(data['min_diff'] > threshold_in_minutes, 1, 0)"
   ]
  },
  {
   "cell_type": "code",
   "execution_count": null,
   "metadata": {},
   "outputs": [],
   "source": [
    "data.columns"
   ]
  },
  {
   "attachments": {},
   "cell_type": "markdown",
   "metadata": {},
   "source": [
    "## 3. Data Analysis: Second Sight"
   ]
  },
  {
   "attachments": {},
   "cell_type": "markdown",
   "metadata": {},
   "source": [
    "### How is the delay rate across columns?"
   ]
  },
  {
   "cell_type": "code",
   "execution_count": 57,
   "metadata": {},
   "outputs": [],
   "source": [
    "def get_rate_from_column(data, column):\n",
    "    # Count the delays for each unique value in the column\n",
    "    delay_counts = data[data['delay'] == 1][column].value_counts()\n",
    "\n",
    "    # Count the total occurrences for each unique value in the column\n",
    "    total_counts = data[column].value_counts()\n",
    "\n",
    "    # Calculate the rates\n",
    "    rates = (total_counts / delay_counts.reindex(total_counts.index, fill_value=0)).fillna(0).round(2)\n",
    "\n",
    "    return rates.reset_index().rename(columns={'index': column, column: 'Tasa (%)'})"
   ]
  },
  {
   "cell_type": "code",
   "execution_count": null,
   "metadata": {},
   "outputs": [],
   "source": [
    "destination_rate = get_rate_from_column(data, 'SIGLADES')\n",
    "destination_rate_values = data['SIGLADES'].value_counts().index\n",
    "plt.figure(figsize = (20,5))\n",
    "sns.set(style=\"darkgrid\")\n",
    "sns.barplot(x= destination_rate_values,y= destination_rate['Tasa (%)'], alpha = 0.75) ####\n",
    "plt.title('Delay Rate by Destination')\n",
    "plt.ylabel('Delay Rate [%]', fontsize=12)\n",
    "plt.xlabel('Destination', fontsize=12)\n",
    "plt.xticks(rotation=90)\n",
    "plt.show()"
   ]
  },
  {
   "cell_type": "code",
   "execution_count": null,
   "metadata": {},
   "outputs": [],
   "source": [
    "airlines_rate = get_rate_from_column(data, 'OPERA')\n",
    "airlines_rate_values = data['OPERA'].value_counts().index\n",
    "plt.figure(figsize = (20,5))\n",
    "sns.set(style=\"darkgrid\")\n",
    "sns.barplot(x=airlines_rate_values,y= airlines_rate['Tasa (%)'], alpha = 0.75) ####\n",
    "plt.title('Delay Rate by Airline')\n",
    "plt.ylabel('Delay Rate [%]', fontsize=12)\n",
    "plt.xlabel('Airline', fontsize=12)\n",
    "plt.xticks(rotation=90)\n",
    "plt.show()"
   ]
  },
  {
   "cell_type": "code",
   "execution_count": null,
   "metadata": {},
   "outputs": [],
   "source": [
    "month_rate = get_rate_from_column(data, 'MES')\n",
    "month_rate_value = data['MES'].value_counts().index\n",
    "plt.figure(figsize = (20,5))\n",
    "sns.set(style=\"darkgrid\")\n",
    "sns.barplot(x=month_rate_value,y= month_rate['Tasa (%)'], color = 'blue', alpha = 0.75) ###\n",
    "plt.title('Delay Rate by Month')\n",
    "plt.ylabel('Delay Rate [%]', fontsize=12)\n",
    "plt.xlabel('Month', fontsize=12)\n",
    "plt.xticks(rotation=90)\n",
    "plt.ylim(0,10)\n",
    "plt.show()"
   ]
  },
  {
   "cell_type": "code",
   "execution_count": null,
   "metadata": {},
   "outputs": [],
   "source": [
    "days_rate = get_rate_from_column(data, 'DIANOM')\n",
    "days_rate_value = data['DIANOM'].value_counts().index\n",
    "\n",
    "sns.set(style=\"darkgrid\")\n",
    "plt.figure(figsize = (20, 5))\n",
    "sns.barplot(x=days_rate_value,y= days_rate['Tasa (%)'], color = 'blue', alpha = 0.75) ####\n",
    "plt.title('Delay Rate by Day')\n",
    "plt.ylabel('Delay Rate [%]', fontsize=12)\n",
    "plt.xlabel('Days', fontsize=12)\n",
    "plt.xticks(rotation=90)\n",
    "plt.ylim(0,7)\n",
    "plt.show()"
   ]
  },
  {
   "cell_type": "code",
   "execution_count": null,
   "metadata": {},
   "outputs": [],
   "source": [
    "high_season_rate = get_rate_from_column(data, 'high_season')\n",
    "high_season_rate_values = data['high_season'].value_counts().index\n",
    "\n",
    "plt.figure(figsize = (5, 2))\n",
    "sns.set(style=\"darkgrid\")\n",
    "sns.barplot(x=[\"no\", \"yes\"],y= high_season_rate['Tasa (%)']) ####\n",
    "plt.title('Delay Rate by Season')\n",
    "plt.ylabel('Delay Rate [%]', fontsize=12)\n",
    "plt.xlabel('High Season', fontsize=12)\n",
    "plt.xticks(rotation=90)\n",
    "plt.ylim(0,6)\n",
    "plt.show()"
   ]
  },
  {
   "cell_type": "code",
   "execution_count": null,
   "metadata": {},
   "outputs": [],
   "source": [
    "flight_type_rate = get_rate_from_column(data, 'TIPOVUELO')\n",
    "flight_type_rate_values = data['TIPOVUELO'].value_counts().index\n",
    "plt.figure(figsize = (5, 2))\n",
    "sns.set(style=\"darkgrid\")\n",
    "sns.barplot(x=flight_type_rate_values,y= flight_type_rate['Tasa (%)'])\n",
    "plt.title('Delay Rate by Flight Type')\n",
    "plt.ylabel('Delay Rate [%]', fontsize=12)\n",
    "plt.xlabel('Flight Type', fontsize=12)\n",
    "plt.ylim(0,7)\n",
    "plt.show()"
   ]
  },
  {
   "cell_type": "code",
   "execution_count": null,
   "metadata": {},
   "outputs": [],
   "source": [
    "period_day_rate = get_rate_from_column(data, 'period_day')\n",
    "period_day_rate_values = data['period_day'].value_counts().index\n",
    "plt.figure(figsize = (5, 2))\n",
    "sns.set(style=\"darkgrid\")\n",
    "sns.barplot(x=period_day_rate_values,y= period_day_rate['Tasa (%)'])\n",
    "plt.title('Delay Rate by Period of Day')\n",
    "plt.ylabel('Delay Rate [%]', fontsize=12)\n",
    "plt.xlabel('Period', fontsize=12)\n",
    "plt.ylim(3,7)\n",
    "plt.show()"
   ]
  },
  {
   "attachments": {},
   "cell_type": "markdown",
   "metadata": {},
   "source": [
    "## 4. Training"
   ]
  },
  {
   "attachments": {},
   "cell_type": "markdown",
   "metadata": {},
   "source": [
    "### 4.a. Data Split (Training and Validation)"
   ]
  },
  {
   "cell_type": "code",
   "execution_count": 65,
   "metadata": {},
   "outputs": [],
   "source": [
    "from sklearn.model_selection import train_test_split\n",
    "from sklearn.utils import shuffle\n",
    "from sklearn.metrics import confusion_matrix, classification_report"
   ]
  },
  {
   "cell_type": "code",
   "execution_count": 66,
   "metadata": {},
   "outputs": [],
   "source": [
    "training_data = shuffle(data[['OPERA', 'MES', 'TIPOVUELO', 'SIGLADES', 'DIANOM', 'delay']], random_state = 111)"
   ]
  },
  {
   "cell_type": "code",
   "execution_count": 67,
   "metadata": {},
   "outputs": [],
   "source": [
    "features = pd.concat([\n",
    "    pd.get_dummies(data['OPERA'], prefix = 'OPERA'),\n",
    "    pd.get_dummies(data['TIPOVUELO'], prefix = 'TIPOVUELO'), \n",
    "    pd.get_dummies(data['MES'], prefix = 'MES')], \n",
    "    axis = 1\n",
    ")\n",
    "target = data['delay']"
   ]
  },
  {
   "cell_type": "code",
   "execution_count": 68,
   "metadata": {},
   "outputs": [],
   "source": [
    "x_train, x_test, y_train, y_test = train_test_split(features, target, test_size=0.33, random_state=42)"
   ]
  },
  {
   "cell_type": "code",
   "execution_count": null,
   "metadata": {},
   "outputs": [],
   "source": [
    "print(f\"train shape: {x_train.shape} | test shape: {x_test.shape}\")"
   ]
  },
  {
   "cell_type": "code",
   "execution_count": null,
   "metadata": {},
   "outputs": [],
   "source": [
    "y_train.value_counts('%')*100"
   ]
  },
  {
   "cell_type": "code",
   "execution_count": null,
   "metadata": {},
   "outputs": [],
   "source": [
    "y_test.value_counts('%')*100"
   ]
  },
  {
   "attachments": {},
   "cell_type": "markdown",
   "metadata": {},
   "source": [
    "### 4.b. Model Selection"
   ]
  },
  {
   "attachments": {},
   "cell_type": "markdown",
   "metadata": {},
   "source": [
    "#### 4.b.i. XGBoost"
   ]
  },
  {
   "cell_type": "code",
   "execution_count": 74,
   "metadata": {},
   "outputs": [],
   "source": [
    "import xgboost as xgb\n",
    "from xgboost import plot_importance"
   ]
  },
  {
   "cell_type": "code",
   "execution_count": null,
   "metadata": {},
   "outputs": [],
   "source": [
    "xgb_model = xgb.XGBClassifier(random_state=1, learning_rate=0.01)\n",
    "xgb_model.fit(x_train, y_train)"
   ]
  },
  {
   "cell_type": "code",
   "execution_count": 76,
   "metadata": {},
   "outputs": [],
   "source": [
    "xgboost_y_preds = xgb_model.predict(x_test)\n",
    "xgboost_y_preds = [1 if y_pred > 0.5 else 0 for y_pred in xgboost_y_preds]"
   ]
  },
  {
   "cell_type": "code",
   "execution_count": null,
   "metadata": {},
   "outputs": [],
   "source": [
    "confusion_matrix(y_test, xgboost_y_preds)"
   ]
  },
  {
   "cell_type": "code",
   "execution_count": null,
   "metadata": {},
   "outputs": [],
   "source": [
    "print(classification_report(y_test, xgboost_y_preds))"
   ]
  },
  {
   "attachments": {},
   "cell_type": "markdown",
   "metadata": {},
   "source": [
    "#### 4.b.ii. Logistic Regression"
   ]
  },
  {
   "cell_type": "code",
   "execution_count": 79,
   "metadata": {},
   "outputs": [],
   "source": [
    "from sklearn.linear_model import LogisticRegression"
   ]
  },
  {
   "cell_type": "code",
   "execution_count": null,
   "metadata": {},
   "outputs": [],
   "source": [
    "reg_model = LogisticRegression()\n",
    "reg_model.fit(x_train, y_train)"
   ]
  },
  {
   "cell_type": "code",
   "execution_count": 81,
   "metadata": {},
   "outputs": [],
   "source": [
    "reg_y_preds = reg_model.predict(x_test)"
   ]
  },
  {
   "cell_type": "code",
   "execution_count": null,
   "metadata": {},
   "outputs": [],
   "source": [
    "confusion_matrix(y_test, reg_y_preds)"
   ]
  },
  {
   "cell_type": "code",
   "execution_count": null,
   "metadata": {},
   "outputs": [],
   "source": [
    "print(classification_report(y_test, reg_y_preds))"
   ]
  },
  {
   "attachments": {},
   "cell_type": "markdown",
   "metadata": {},
   "source": [
    "## 5. Data Analysis: Third Sight"
   ]
  },
  {
   "attachments": {},
   "cell_type": "markdown",
   "metadata": {},
   "source": [
    "### Feature Importance"
   ]
  },
  {
   "cell_type": "code",
   "execution_count": null,
   "metadata": {},
   "outputs": [],
   "source": [
    "plt.figure(figsize = (10,5))\n",
    "plot_importance(xgb_model)"
   ]
  },
  {
   "cell_type": "code",
   "execution_count": 85,
   "metadata": {},
   "outputs": [],
   "source": [
    "top_10_features = [\n",
    "    \"OPERA_Latin American Wings\", \n",
    "    \"MES_7\",\n",
    "    \"MES_10\",\n",
    "    \"OPERA_Grupo LATAM\",\n",
    "    \"MES_12\",\n",
    "    \"TIPOVUELO_I\",\n",
    "    \"MES_4\",\n",
    "    \"MES_11\",\n",
    "    \"OPERA_Sky Airline\",\n",
    "    \"OPERA_Copa Air\"\n",
    "]"
   ]
  },
  {
   "attachments": {},
   "cell_type": "markdown",
   "metadata": {},
   "source": [
    "### Data Balance"
   ]
  },
  {
   "cell_type": "code",
   "execution_count": null,
   "metadata": {},
   "outputs": [],
   "source": [
    "n_y0 = len(y_train[y_train == 0])\n",
    "n_y1 = len(y_train[y_train == 1])\n",
    "scale = n_y0/n_y1\n",
    "print(scale)"
   ]
  },
  {
   "attachments": {},
   "cell_type": "markdown",
   "metadata": {},
   "source": [
    "## 6. Training with Improvement"
   ]
  },
  {
   "attachments": {},
   "cell_type": "markdown",
   "metadata": {},
   "source": [
    "### 6.a. Data Split"
   ]
  },
  {
   "cell_type": "code",
   "execution_count": null,
   "metadata": {},
   "outputs": [],
   "source": [
    "x_train2, x_test2, y_train2, y_test2 = train_test_split(features[top_10_features], target, test_size=0.33, random_state=42)"
   ]
  },
  {
   "attachments": {},
   "cell_type": "markdown",
   "metadata": {},
   "source": [
    "### 6.b. Model Selection"
   ]
  },
  {
   "attachments": {},
   "cell_type": "markdown",
   "metadata": {},
   "source": [
    "#### 6.b.i. XGBoost with Feature Importance and with Balance"
   ]
  },
  {
   "cell_type": "code",
   "execution_count": null,
   "metadata": {},
   "outputs": [],
   "source": [
    "xgb_model_2 = xgb.XGBClassifier(random_state=1, learning_rate=0.01, scale_pos_weight = scale)\n",
    "xgb_model_2.fit(x_train2, y_train2)"
   ]
  },
  {
   "cell_type": "code",
   "execution_count": 89,
   "metadata": {},
   "outputs": [],
   "source": [
    "xgboost_y_preds_2 = xgb_model_2.predict(x_test2)"
   ]
  },
  {
   "cell_type": "code",
   "execution_count": null,
   "metadata": {},
   "outputs": [],
   "source": [
    "confusion_matrix(y_test2, xgboost_y_preds_2)"
   ]
  },
  {
   "cell_type": "code",
   "execution_count": null,
   "metadata": {},
   "outputs": [],
   "source": [
    "print(classification_report(y_test2, xgboost_y_preds_2))"
   ]
  },
  {
   "attachments": {},
   "cell_type": "markdown",
   "metadata": {},
   "source": [
    "#### 6.b.ii. XGBoost with Feature Importance but without Balance"
   ]
  },
  {
   "cell_type": "code",
   "execution_count": null,
   "metadata": {},
   "outputs": [],
   "source": [
    "xgb_model_3 = xgb.XGBClassifier(random_state=1, learning_rate=0.01)\n",
    "xgb_model_3.fit(x_train2, y_train2)"
   ]
  },
  {
   "cell_type": "code",
   "execution_count": 93,
   "metadata": {},
   "outputs": [],
   "source": [
    "xgboost_y_preds_3 = xgb_model_3.predict(x_test2)"
   ]
  },
  {
   "cell_type": "code",
   "execution_count": null,
   "metadata": {},
   "outputs": [],
   "source": [
    "confusion_matrix(y_test2, xgboost_y_preds_3)"
   ]
  },
  {
   "cell_type": "code",
   "execution_count": null,
   "metadata": {},
   "outputs": [],
   "source": [
    "print(classification_report(y_test2, xgboost_y_preds_3))"
   ]
  },
  {
   "attachments": {},
   "cell_type": "markdown",
   "metadata": {},
   "source": [
    "#### 6.b.iii. Logistic Regression with Feature Importante and with Balance"
   ]
  },
  {
   "cell_type": "code",
   "execution_count": null,
   "metadata": {},
   "outputs": [],
   "source": [
    "reg_model_2 = LogisticRegression(class_weight={1: n_y0/len(y_train), 0: n_y1/len(y_train)})\n",
    "reg_model_2.fit(x_train2, y_train2)"
   ]
  },
  {
   "cell_type": "code",
   "execution_count": 97,
   "metadata": {},
   "outputs": [],
   "source": [
    "reg_y_preds_2 = reg_model_2.predict(x_test2)"
   ]
  },
  {
   "cell_type": "code",
   "execution_count": null,
   "metadata": {},
   "outputs": [],
   "source": [
    "confusion_matrix(y_test2, reg_y_preds_2)"
   ]
  },
  {
   "cell_type": "code",
   "execution_count": null,
   "metadata": {},
   "outputs": [],
   "source": [
    "print(classification_report(y_test2, reg_y_preds_2))"
   ]
  },
  {
   "attachments": {},
   "cell_type": "markdown",
   "metadata": {},
   "source": [
    "#### 6.b.iv. Logistic Regression with Feature Importante but without Balance"
   ]
  },
  {
   "cell_type": "code",
   "execution_count": null,
   "metadata": {},
   "outputs": [],
   "source": [
    "reg_model_3 = LogisticRegression()\n",
    "reg_model_3.fit(x_train2, y_train2)"
   ]
  },
  {
   "cell_type": "code",
   "execution_count": 101,
   "metadata": {},
   "outputs": [],
   "source": [
    "reg_y_preds_3 = reg_model_3.predict(x_test2)"
   ]
  },
  {
   "cell_type": "code",
   "execution_count": null,
   "metadata": {},
   "outputs": [],
   "source": [
    "confusion_matrix(y_test2, reg_y_preds_3)"
   ]
  },
  {
   "cell_type": "code",
   "execution_count": null,
   "metadata": {},
   "outputs": [],
   "source": [
    "print(classification_report(y_test2, reg_y_preds_3))"
   ]
  },
  {
   "attachments": {},
   "cell_type": "markdown",
   "metadata": {},
   "source": [
    "## 7. Data Science Conclusions"
   ]
  },
  {
   "attachments": {},
   "cell_type": "markdown",
   "metadata": {},
   "source": [
    "By looking at the results of the 6 trained models, it can be determined:\n",
    "- There is no noticeable difference in results between XGBoost and LogisticRegression.\n",
    "- Does not decrease the performance of the model by reducing the features to the 10 most important.\n",
    "- Improves the model's performance when balancing classes, since it increases the recall of class \"1\"."
   ]
  },
  {
   "attachments": {},
   "cell_type": "markdown",
   "metadata": {},
   "source": [
    "**With this, the model to be productive must be the one that is trained with the top 10 features and class balancing, but which one?**"
   ]
  }
 ],
 "metadata": {
  "kernelspec": {
   "display_name": "mle-challenge",
   "language": "python",
   "name": "python3"
  },
  "language_info": {
   "codemirror_mode": {
    "name": "ipython",
    "version": 3
   },
   "file_extension": ".py",
   "mimetype": "text/x-python",
   "name": "python",
   "nbconvert_exporter": "python",
   "pygments_lexer": "ipython3",
   "version": "3.9.16"
  },
  "orig_nbformat": 4
 },
 "nbformat": 4,
 "nbformat_minor": 2
}
